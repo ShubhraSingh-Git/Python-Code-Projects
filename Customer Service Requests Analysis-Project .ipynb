{
 "cells": [
  {
   "cell_type": "markdown",
   "metadata": {},
   "source": [
    "Importing all packages"
   ]
  },
  {
   "cell_type": "code",
   "execution_count": 216,
   "metadata": {},
   "outputs": [],
   "source": [
    "#importing Libraries\n",
    "import numpy as np\n",
    "import pandas as pd\n",
    "import datetime\n",
    "import matplotlib.pyplot as plt\n",
    "from matplotlib import style\n",
    "%matplotlib inline\n",
    "import seaborn as sns\n",
    "import math\n",
    "import scipy.stats as stats\n",
    "from math import sqrt"
   ]
  },
  {
   "cell_type": "code",
   "execution_count": 94,
   "metadata": {},
   "outputs": [
    {
     "name": "stdout",
     "output_type": "stream",
     "text": [
      "   Unique Key        Created Date         Closed Date Agency  \\\n",
      "0    32310363 2015-12-31 23:59:45 2016-01-01 00:55:00   NYPD   \n",
      "1    32309934 2015-12-31 23:59:44 2016-01-01 01:26:00   NYPD   \n",
      "2    32309159 2015-12-31 23:59:29 2016-01-01 04:51:00   NYPD   \n",
      "3    32305098 2015-12-31 23:57:46 2016-01-01 07:43:00   NYPD   \n",
      "4    32306529 2015-12-31 23:56:58 2016-01-01 03:24:00   NYPD   \n",
      "\n",
      "                       Agency Name           Complaint Type  \\\n",
      "0  New York City Police Department  Noise - Street/Sidewalk   \n",
      "1  New York City Police Department         Blocked Driveway   \n",
      "2  New York City Police Department         Blocked Driveway   \n",
      "3  New York City Police Department          Illegal Parking   \n",
      "4  New York City Police Department          Illegal Parking   \n",
      "\n",
      "                     Descriptor    Location Type  Incident Zip  \\\n",
      "0              Loud Music/Party  Street/Sidewalk       10034.0   \n",
      "1                     No Access  Street/Sidewalk       11105.0   \n",
      "2                     No Access  Street/Sidewalk       10458.0   \n",
      "3  Commercial Overnight Parking  Street/Sidewalk       10461.0   \n",
      "4              Blocked Sidewalk  Street/Sidewalk       11373.0   \n",
      "\n",
      "        Incident Address  ... Bridge Highway Name Bridge Highway Direction  \\\n",
      "0    71 VERMILYEA AVENUE  ...                 NaN                      NaN   \n",
      "1        27-07 23 AVENUE  ...                 NaN                      NaN   \n",
      "2  2897 VALENTINE AVENUE  ...                 NaN                      NaN   \n",
      "3    2940 BAISLEY AVENUE  ...                 NaN                      NaN   \n",
      "4          87-14 57 ROAD  ...                 NaN                      NaN   \n",
      "\n",
      "  Road Ramp Bridge Highway Segment Garage Lot Name Ferry Direction  \\\n",
      "0       NaN                    NaN             NaN             NaN   \n",
      "1       NaN                    NaN             NaN             NaN   \n",
      "2       NaN                    NaN             NaN             NaN   \n",
      "3       NaN                    NaN             NaN             NaN   \n",
      "4       NaN                    NaN             NaN             NaN   \n",
      "\n",
      "  Ferry Terminal Name   Latitude  Longitude  \\\n",
      "0                 NaN  40.865682 -73.923501   \n",
      "1                 NaN  40.775945 -73.915094   \n",
      "2                 NaN  40.870325 -73.888525   \n",
      "3                 NaN  40.835994 -73.828379   \n",
      "4                 NaN  40.733060 -73.874170   \n",
      "\n",
      "                                   Location  \n",
      "0   (40.86568153633767, -73.92350095571744)  \n",
      "1  (40.775945312321085, -73.91509393898605)  \n",
      "2  (40.870324522111424, -73.88852464418646)  \n",
      "3   (40.83599404683083, -73.82837939584206)  \n",
      "4  (40.733059618956815, -73.87416975810375)  \n",
      "\n",
      "[5 rows x 53 columns]\n"
     ]
    }
   ],
   "source": [
    "CSR_file=pd.read_csv ('311_Service_Requests_from_2010_to_Present.csv',parse_dates=['Created Date', 'Closed Date'],low_memory=False)\n",
    "print(CSR_file.head())"
   ]
  },
  {
   "cell_type": "code",
   "execution_count": 3,
   "metadata": {},
   "outputs": [
    {
     "name": "stdout",
     "output_type": "stream",
     "text": [
      "(300698, 53)\n"
     ]
    }
   ],
   "source": [
    "# Gathering information about the file\n",
    "print(CSR_file.shape)"
   ]
  },
  {
   "cell_type": "code",
   "execution_count": 3,
   "metadata": {},
   "outputs": [
    {
     "name": "stdout",
     "output_type": "stream",
     "text": [
      "Index(['Unique Key', 'Created Date', 'Closed Date', 'Agency', 'Agency Name',\n",
      "       'Complaint Type', 'Descriptor', 'Location Type', 'Incident Zip',\n",
      "       'Incident Address', 'Street Name', 'Cross Street 1', 'Cross Street 2',\n",
      "       'Intersection Street 1', 'Intersection Street 2', 'Address Type',\n",
      "       'City', 'Landmark', 'Facility Type', 'Status', 'Due Date',\n",
      "       'Resolution Description', 'Resolution Action Updated Date',\n",
      "       'Community Board', 'Borough', 'X Coordinate (State Plane)',\n",
      "       'Y Coordinate (State Plane)', 'Park Facility Name', 'Park Borough',\n",
      "       'School Name', 'School Number', 'School Region', 'School Code',\n",
      "       'School Phone Number', 'School Address', 'School City', 'School State',\n",
      "       'School Zip', 'School Not Found', 'School or Citywide Complaint',\n",
      "       'Vehicle Type', 'Taxi Company Borough', 'Taxi Pick Up Location',\n",
      "       'Bridge Highway Name', 'Bridge Highway Direction', 'Road Ramp',\n",
      "       'Bridge Highway Segment', 'Garage Lot Name', 'Ferry Direction',\n",
      "       'Ferry Terminal Name', 'Latitude', 'Longitude', 'Location'],\n",
      "      dtype='object')\n"
     ]
    }
   ],
   "source": [
    "#Reading All columns\n",
    "print(CSR_file.columns)"
   ]
  },
  {
   "cell_type": "markdown",
   "metadata": {},
   "source": [
    "Read or convert the columns ‘Created Date’ and Closed Date’ to datetime datatype and create a new column ‘Request_Closing_Time’ as the time elapsed between request creation and request closing. (Hint: Explore the package/module datetime)"
   ]
  },
  {
   "cell_type": "code",
   "execution_count": 151,
   "metadata": {},
   "outputs": [
    {
     "name": "stdout",
     "output_type": "stream",
     "text": [
      "0   00:55:15\n",
      "1   01:26:16\n",
      "2   04:51:31\n",
      "3   07:45:14\n",
      "4   03:27:02\n",
      "5   01:53:30\n",
      "6   01:57:28\n",
      "7   01:47:55\n",
      "8   08:33:02\n",
      "9   01:23:02\n",
      "Name: Request_Closing_Time, dtype: timedelta64[ns]\n",
      "Index(['Unique Key', 'Created Date', 'Closed Date', 'Agency', 'Agency Name',\n",
      "       'Complaint Type', 'Descriptor', 'Location Type', 'Incident Zip',\n",
      "       'Incident Address', 'Street Name', 'Cross Street 1', 'Cross Street 2',\n",
      "       'Intersection Street 1', 'Intersection Street 2', 'Address Type',\n",
      "       'City', 'Landmark', 'Facility Type', 'Status', 'Due Date',\n",
      "       'Resolution Description', 'Resolution Action Updated Date',\n",
      "       'Community Board', 'Borough', 'X Coordinate (State Plane)',\n",
      "       'Y Coordinate (State Plane)', 'Park Facility Name', 'Park Borough',\n",
      "       'School Name', 'School Number', 'School Region', 'School Code',\n",
      "       'School Phone Number', 'School Address', 'School City', 'School State',\n",
      "       'School Zip', 'School Not Found', 'School or Citywide Complaint',\n",
      "       'Vehicle Type', 'Taxi Company Borough', 'Taxi Pick Up Location',\n",
      "       'Bridge Highway Name', 'Bridge Highway Direction', 'Road Ramp',\n",
      "       'Bridge Highway Segment', 'Garage Lot Name', 'Ferry Direction',\n",
      "       'Ferry Terminal Name', 'Latitude', 'Longitude', 'Location',\n",
      "       'Request_Closing_Time'],\n",
      "      dtype='object')\n"
     ]
    }
   ],
   "source": [
    "#Calculating Request Closing time\n",
    "CSR_file['Request_Closing_Time']= CSR_file['Closed Date'] - CSR_file['Created Date']\n",
    "CSR_file['Request_Closing_Time'].duplicated(keep = False)\n",
    "print(CSR_file['Request_Closing_Time'].head(10))\n",
    "print(CSR_file.columns)"
   ]
  },
  {
   "cell_type": "markdown",
   "metadata": {},
   "source": [
    "Provide major insights/patterns that you can offer in a visual format (graphs or tables); at least 4 major conclusions that you can come up with after generic data mining."
   ]
  },
  {
   "cell_type": "code",
   "execution_count": 169,
   "metadata": {},
   "outputs": [
    {
     "data": {
      "image/png": "[encoded data removed]",
      "text/plain": [
       "<Figure size 720x504 with 1 Axes>"
      ]
     },
     "metadata": {
      "needs_background": "light"
     },
     "output_type": "display_data"
    }
   ],
   "source": [
    "#Complaint type Breakdown with bar plot to figure out majority of complaint types and top 10 complaints\n",
    "CSR_file['Complaint Type'].value_counts().head(10).plot(kind='bar',figsize=(10,7),color=list('rgbkymc'))\n",
    "plt.xlabel('Complaint_Category')\n",
    "plt.ylabel('Number_of_Complaints')\n",
    "plt.title('Complaint_Breakdown')\n",
    "plt.show()\n",
    "#Conclusion1=Maximum no of complaints are for Blocked Delivery followed by illigal parking"
   ]
  },
  {
   "cell_type": "code",
   "execution_count": 61,
   "metadata": {},
   "outputs": [
    {
     "data": {
      "image/png": "[encoded data removed]",
      "text/plain": [
       "<Figure size 720x504 with 1 Axes>"
      ]
     },
     "metadata": {
      "needs_background": "light"
     },
     "output_type": "display_data"
    }
   ],
   "source": [
    "#Status of tickets\n",
    "CSR_file['Status'].value_counts().plot(kind='line',color='darkblue',linewidth=2,figsize=(10,7))\n",
    "plt.xlabel('Status_of_Complaint')\n",
    "plt.ylabel('Number_of_Complaints')\n",
    "plt.title('Ticket Status')\n",
    "plt.show()\n",
    "#Conclusion 2=No. of Open, Assigned and Draft tickets is zero shos the efficiency of the Customer Care Center that is closing all tickets"
   ]
  },
  {
   "cell_type": "code",
   "execution_count": 67,
   "metadata": {},
   "outputs": [
    {
     "name": "stdout",
     "output_type": "stream",
     "text": [
      "              Complaint Type  count\n",
      "0           Blocked Driveway  77044\n",
      "1            Illegal Parking  75361\n",
      "2    Noise - Street/Sidewalk  48612\n",
      "3         Noise - Commercial  35577\n",
      "4           Derelict Vehicle  17718\n",
      "5            Noise - Vehicle  17083\n",
      "6               Animal Abuse   7778\n",
      "7                    Traffic   4498\n",
      "8        Homeless Encampment   4416\n",
      "9               Noise - Park   4042\n",
      "10                   Vending   3802\n",
      "11                  Drinking   1280\n",
      "12  Noise - House of Worship    931\n",
      "13     Posting Advertisement    650\n",
      "14       Urinating in Public    592\n"
     ]
    }
   ],
   "source": [
    "#Plotting Major Complaint types\n",
    "max_complaints=CSR_file.groupby(\"Complaint Type\")\n",
    "sort_max_complaints = max_complaints.size().sort_values(ascending = False).to_frame('count').reset_index()\n",
    "print(sort_max_complaints.head(15))"
   ]
  },
  {
   "cell_type": "code",
   "execution_count": 76,
   "metadata": {},
   "outputs": [
    {
     "data": {
      "image/png": "[encoded data removed]",
      "text/plain": [
       "<Figure size 720x576 with 1 Axes>"
      ]
     },
     "metadata": {},
     "output_type": "display_data"
    }
   ],
   "source": [
    "#pie Chart for Complaints to visualise percentage contribution\n",
    "sort_max_complaints = sort_max_complaints.head()\n",
    "plt.figure(figsize=(10,8))\n",
    "plt.pie(sort_max_complaints['count'],labels=sort_max_complaints[\"Complaint Type\"], autopct=\"%1.1f%%\")\n",
    "plt.title('Complaint_percentage_Wise')\n",
    "plt.show()\n",
    "#Conclusion 3= Illigal parking anf Blocked Driveway contributes to the maximum % of complaints"
   ]
  },
  {
   "cell_type": "code",
   "execution_count": 153,
   "metadata": {},
   "outputs": [],
   "source": [
    "def toHr(timeDel):\n",
    "    days = timeDel.days\n",
    "    hours = round(timeDel.seconds/3600, 2)\n",
    "    result = (days * 24) + hours\n",
    "    return result"
   ]
  },
  {
   "cell_type": "code",
   "execution_count": 154,
   "metadata": {},
   "outputs": [
    {
     "data": {
      "text/plain": [
       "0    0.92\n",
       "1    1.44\n",
       "2    4.86\n",
       "3    7.75\n",
       "4    3.45\n",
       "Name: Request_Closing_In_Hr, dtype: float64"
      ]
     },
     "execution_count": 154,
     "metadata": {},
     "output_type": "execute_result"
    }
   ],
   "source": [
    "CSR_file['Request_Closing_In_Hr'] = CSR_file['Request_Closing_Time'].apply(toHr)\n",
    "CSR_file['Request_Closing_In_Hr'].head()"
   ]
  },
  {
   "cell_type": "code",
   "execution_count": 158,
   "metadata": {},
   "outputs": [
    {
     "data": {
      "text/plain": [
       "0          Fast\n",
       "1          Fast\n",
       "2          Slow\n",
       "3     Very Slow\n",
       "4    Acceptable\n",
       "Name: Request_Closing_Time_Category, dtype: object"
      ]
     },
     "execution_count": 158,
     "metadata": {},
     "output_type": "execute_result"
    }
   ],
   "source": [
    "# Categorizing Ticket Closure time as Fast, Slow, Very Slow and Acceptable\n",
    "def hrToCategory(hr):\n",
    "    if (math.isnan(hr)):\n",
    "        return 'Unspecified'\n",
    "    elif (hr < 2.0):\n",
    "        return 'Fast'\n",
    "    elif (4.0 > hr >= 2.0):\n",
    "        return 'Acceptable'\n",
    "    elif (6.0 > hr >= 4.0):\n",
    "        return 'Slow'\n",
    "    else:\n",
    "        return 'Very Slow'\n",
    "CSR_file['Request_Closing_Time_Category'] = CSR_file['Request_Closing_In_Hr'].apply(hrToCategory)\n",
    "CSR_file['Request_Closing_Time_Category'].head()"
   ]
  },
  {
   "cell_type": "code",
   "execution_count": 164,
   "metadata": {},
   "outputs": [
    {
     "data": {
      "image/png": "[encoded data removed]",
      "text/plain": [
       "<Figure size 720x504 with 1 Axes>"
      ]
     },
     "metadata": {
      "needs_background": "light"
     },
     "output_type": "display_data"
    }
   ],
   "source": [
    "CSR_file['Request_Closing_Time_Category'].value_counts().plot(kind=\"bar\", color=list('rgbkymc'), alpha=0.7, figsize=(10,7))\n",
    "plt.show()\n",
    "#Conclusion 4= No. of tickets are closed well before time ande fall under Fast category"
   ]
  },
  {
   "cell_type": "code",
   "execution_count": 204,
   "metadata": {},
   "outputs": [
    {
     "name": "stdout",
     "output_type": "stream",
     "text": [
      "                  Unique Key  Incident Zip  X Coordinate (State Plane)  \\\n",
      "City                                                                     \n",
      "BROOKLYN       3078182595526  1.103022e+09                9.774336e+10   \n",
      "NEW YORK       2063880948263  6.616886e+08                6.499733e+10   \n",
      "BRONX          1273275732157  4.258114e+08                4.130491e+10   \n",
      "STATEN ISLAND   386876152318  1.272265e+08                1.167332e+10   \n",
      "JAMAICA         228227999383  8.341781e+07                7.588198e+09   \n",
      "ASTORIA         198321808723  7.028830e+07                6.355664e+09   \n",
      "FLUSHING        187222496067  6.781323e+07                6.175527e+09   \n",
      "RIDGEWOOD       161734067432  5.878076e+07                5.231682e+09   \n",
      "CORONA          134600820600  4.882556e+07                4.392211e+09   \n",
      "WOODSIDE        110938943841  4.032008e+07                3.579294e+09   \n",
      "\n",
      "               Y Coordinate (State Plane)  School or Citywide Complaint  \\\n",
      "City                                                                      \n",
      "BROOKLYN                     1.748821e+10                           0.0   \n",
      "NEW YORK                     1.469229e+10                           0.0   \n",
      "BRONX                        1.010540e+10                           0.0   \n",
      "STATEN ISLAND                1.902495e+09                           0.0   \n",
      "JAMAICA                      1.405303e+09                           0.0   \n",
      "ASTORIA                      1.381218e+09                           0.0   \n",
      "FLUSHING                     1.278786e+09                           0.0   \n",
      "RIDGEWOOD                    1.008959e+09                           0.0   \n",
      "CORONA                       9.099315e+08                           0.0   \n",
      "WOODSIDE                     7.468883e+08                           0.0   \n",
      "\n",
      "               Vehicle Type  Taxi Company Borough  Taxi Pick Up Location  \\\n",
      "City                                                                       \n",
      "BROOKLYN                0.0                   0.0                    0.0   \n",
      "NEW YORK                0.0                   0.0                    0.0   \n",
      "BRONX                   0.0                   0.0                    0.0   \n",
      "STATEN ISLAND           0.0                   0.0                    0.0   \n",
      "JAMAICA                 0.0                   0.0                    0.0   \n",
      "ASTORIA                 0.0                   0.0                    0.0   \n",
      "FLUSHING                0.0                   0.0                    0.0   \n",
      "RIDGEWOOD               0.0                   0.0                    0.0   \n",
      "CORONA                  0.0                   0.0                    0.0   \n",
      "WOODSIDE                0.0                   0.0                    0.0   \n",
      "\n",
      "               Garage Lot Name      Latitude     Longitude  \\\n",
      "City                                                         \n",
      "BROOKLYN                   0.0  3.988873e+06 -7.256124e+06   \n",
      "NEW YORK                   0.0  2.667307e+06 -4.837489e+06   \n",
      "BRONX                      0.0  1.658300e+06 -2.999153e+06   \n",
      "STATEN ISLAND              0.0  5.006767e+05 -9.144727e+05   \n",
      "JAMAICA                    0.0  2.965103e+05 -5.376604e+05   \n",
      "ASTORIA                    0.0  2.574435e+05 -4.668041e+05   \n",
      "FLUSHING                   0.0  2.431837e+05 -4.404661e+05   \n",
      "RIDGEWOOD                  0.0  2.100693e+05 -3.813659e+05   \n",
      "CORONA                     0.0  1.749729e+05 -3.171575e+05   \n",
      "WOODSIDE                   0.0  1.442801e+05 -2.616945e+05   \n",
      "\n",
      "               Request_Closing_In_Hr  \n",
      "City                                  \n",
      "BROOKLYN                   397895.95  \n",
      "NEW YORK                   196110.10  \n",
      "BRONX                      248096.50  \n",
      "STATEN ISLAND               47870.37  \n",
      "JAMAICA                     38002.55  \n",
      "ASTORIA                     29111.16  \n",
      "FLUSHING                    18017.75  \n",
      "RIDGEWOOD                   22928.40  \n",
      "CORONA                      13863.15  \n",
      "WOODSIDE                    24430.57  \n"
     ]
    }
   ],
   "source": [
    "#City with maximum no. of complaints\n",
    "City_with_max_complaint=CSR_file.groupby(\"City\")\n",
    "City_with_max_complaint_sorting = City_with_max_complaint.sum().sort_values(\"Unique Key\",ascending = False).head(10)\n",
    "print(City_with_max_complaint_sorting)"
   ]
  },
  {
   "cell_type": "code",
   "execution_count": 202,
   "metadata": {},
   "outputs": [
    {
     "data": {
      "image/png": "[encoded data removed]",
      "text/plain": [
       "<Figure size 720x504 with 1 Axes>"
      ]
     },
     "metadata": {
      "needs_background": "light"
     },
     "output_type": "display_data"
    }
   ],
   "source": [
    "City_with_max_complaint_sorting.plot(kind='line',color='rgb',linewidth=2,figsize=(10,7))\n",
    "plt.show()\n",
    "#Conclusion 5= Maximum no of complaints have been booked from Brooklyn"
   ]
  },
  {
   "cell_type": "markdown",
   "metadata": {},
   "source": [
    "Order the complaint types based on the average ‘Request_Closing_Time’, grouping them for different locations"
   ]
  },
  {
   "cell_type": "code",
   "execution_count": 194,
   "metadata": {},
   "outputs": [
    {
     "data": {
      "text/plain": [
       "2614"
      ]
     },
     "execution_count": 194,
     "metadata": {},
     "output_type": "execute_result"
    }
   ],
   "source": [
    "# Finding null values in field City\n",
    "CSR_file['City'].isnull().sum()\n",
    "#There are 2614 null values that we will replace"
   ]
  },
  {
   "cell_type": "code",
   "execution_count": 201,
   "metadata": {},
   "outputs": [
    {
     "data": {
      "text/plain": [
       "0              NEW YORK\n",
       "1               ASTORIA\n",
       "2                 BRONX\n",
       "3                 BRONX\n",
       "4              ELMHURST\n",
       "              ...      \n",
       "300693    Not Available\n",
       "300694    RICHMOND HILL\n",
       "300695         BROOKLYN\n",
       "300696            BRONX\n",
       "300697         NEW YORK\n",
       "Name: City, Length: 300698, dtype: object"
      ]
     },
     "execution_count": 201,
     "metadata": {},
     "output_type": "execute_result"
    }
   ],
   "source": [
    "# Replacing Null values with Not Avialable\n",
    "CSR_file['City'].fillna('Not Available', inplace=True)\n",
    "CSR_file['City']"
   ]
  },
  {
   "cell_type": "code",
   "execution_count": 206,
   "metadata": {},
   "outputs": [
    {
     "data": {
      "text/plain": [
       "4"
      ]
     },
     "execution_count": 206,
     "metadata": {},
     "output_type": "execute_result"
    }
   ],
   "source": [
    "# Grouping City (location) first and Complain Type in that\n",
    "City_Group = CSR_file.groupby(['City', 'Complaint Type'])\n",
    "# Finding average of City grouping, and get Request_Closing_Time column from there\n",
    "City_Group_Mean = City_Group.mean()['Request_Closing_In_Hr']\n",
    "City_Group_Mean.isnull().sum()"
   ]
  },
  {
   "cell_type": "code",
   "execution_count": 213,
   "metadata": {},
   "outputs": [
    {
     "name": "stdout",
     "output_type": "stream",
     "text": [
      "                                  Request_Closing_In_Hr\n",
      "City     Complaint Type                                \n",
      "ARVERNE  Animal Abuse                          2.153158\n",
      "         Blocked Driveway                      2.526000\n",
      "         Derelict Vehicle                      2.968889\n",
      "         Disorderly Youth                      3.595000\n",
      "         Drinking                              0.240000\n",
      "...                                                 ...\n",
      "Woodside Blocked Driveway                      6.405455\n",
      "         Derelict Vehicle                      4.965000\n",
      "         Illegal Parking                       5.219500\n",
      "         Noise - Commercial                    2.390000\n",
      "         Noise - Street/Sidewalk               3.410000\n",
      "\n",
      "[782 rows x 1 columns]\n"
     ]
    }
   ],
   "source": [
    "# Aggregating City Group by Request closing in hour\n",
    "City_Group_Aggregate = City_Group.agg({'Request_Closing_In_Hr': 'mean'})\n",
    "print(City_Group_Aggregate)"
   ]
  },
  {
   "cell_type": "code",
   "execution_count": 208,
   "metadata": {},
   "outputs": [
    {
     "data": {
      "text/html": [
       "<div>\n",
       "<style scoped>\n",
       "    .dataframe tbody tr th:only-of-type {\n",
       "        vertical-align: middle;\n",
       "    }\n",
       "\n",
       "    .dataframe tbody tr th {\n",
       "        vertical-align: top;\n",
       "    }\n",
       "\n",
       "    .dataframe thead th {\n",
       "        text-align: right;\n",
       "    }\n",
       "</style>\n",
       "<table border=\"1\" class=\"dataframe\">\n",
       "  <thead>\n",
       "    <tr style=\"text-align: right;\">\n",
       "      <th></th>\n",
       "      <th></th>\n",
       "      <th>Request_Closing_In_Hr</th>\n",
       "    </tr>\n",
       "    <tr>\n",
       "      <th>City</th>\n",
       "      <th>Complaint Type</th>\n",
       "      <th></th>\n",
       "    </tr>\n",
       "  </thead>\n",
       "  <tbody>\n",
       "    <tr>\n",
       "      <th rowspan=\"4\" valign=\"top\">Not Available</th>\n",
       "      <th>Ferry Complaint</th>\n",
       "      <td>NaN</td>\n",
       "    </tr>\n",
       "    <tr>\n",
       "      <th>Noise - House of Worship</th>\n",
       "      <td>NaN</td>\n",
       "    </tr>\n",
       "    <tr>\n",
       "      <th>Panhandling</th>\n",
       "      <td>NaN</td>\n",
       "    </tr>\n",
       "    <tr>\n",
       "      <th>Posting Advertisement</th>\n",
       "      <td>NaN</td>\n",
       "    </tr>\n",
       "  </tbody>\n",
       "</table>\n",
       "</div>"
      ],
      "text/plain": [
       "                                        Request_Closing_In_Hr\n",
       "City          Complaint Type                                 \n",
       "Not Available Ferry Complaint                             NaN\n",
       "              Noise - House of Worship                    NaN\n",
       "              Panhandling                                 NaN\n",
       "              Posting Advertisement                       NaN"
      ]
     },
     "execution_count": 208,
     "metadata": {},
     "output_type": "execute_result"
    }
   ],
   "source": [
    "#Finding Null values\n",
    "City_Group_Aggregate[City_Group_Aggregate['Request_Closing_In_Hr'].isnull()]"
   ]
  },
  {
   "cell_type": "code",
   "execution_count": 212,
   "metadata": {},
   "outputs": [
    {
     "name": "stdout",
     "output_type": "stream",
     "text": [
      "                                  Request_Closing_In_Hr\n",
      "City     Complaint Type                                \n",
      "ARVERNE  Animal Abuse                          2.153158\n",
      "         Blocked Driveway                      2.526000\n",
      "         Derelict Vehicle                      2.968889\n",
      "         Disorderly Youth                      3.595000\n",
      "         Drinking                              0.240000\n",
      "...                                                 ...\n",
      "Woodside Blocked Driveway                      6.405455\n",
      "         Derelict Vehicle                      4.965000\n",
      "         Illegal Parking                       5.219500\n",
      "         Noise - Commercial                    2.390000\n",
      "         Noise - Street/Sidewalk               3.410000\n",
      "\n",
      "[778 rows x 1 columns]\n"
     ]
    }
   ],
   "source": [
    "#Dropping NAN\n",
    "City_Group_Aggregate_noNA=City_Group_Aggregate.dropna()\n",
    "print(City_Group_Aggregate_noNA)"
   ]
  },
  {
   "cell_type": "code",
   "execution_count": 215,
   "metadata": {},
   "outputs": [
    {
     "name": "stdout",
     "output_type": "stream",
     "text": [
      "                                  Request_Closing_In_Hr\n",
      "City     Complaint Type                                \n",
      "ARVERNE  Drinking                              0.240000\n",
      "         Vending                               0.480000\n",
      "         Urinating in Public                   0.690000\n",
      "         Panhandling                           1.030000\n",
      "         Noise - Park                          1.285000\n",
      "...                                                 ...\n",
      "Woodside Noise - Commercial                    2.390000\n",
      "         Noise - Street/Sidewalk               3.410000\n",
      "         Derelict Vehicle                      4.965000\n",
      "         Illegal Parking                       5.219500\n",
      "         Blocked Driveway                      6.405455\n",
      "\n",
      "[778 rows x 1 columns]\n"
     ]
    }
   ],
   "source": [
    "# Sorting by column - Request_Closing_In_Hr for City on grouped\n",
    "City_Group_Sorted = City_Group_Aggregate_noNA.sort_values(['City', 'Request_Closing_In_Hr'])\n",
    "print(City_Group_Sorted)"
   ]
  },
  {
   "cell_type": "markdown",
   "metadata": {},
   "source": [
    "Perform a statistical test for the following:\n",
    "Please note: For the below statements you need to state the Null and Alternate and then provide a statistical test to accept or reject the Null Hypothesis along with the corresponding ‘p-value’.\n",
    "\n",
    "Whether the average response time across complaint types is similar or not (overall)\n",
    "Are the type of complaint or service requested and location related?"
   ]
  },
  {
   "cell_type": "code",
   "execution_count": 217,
   "metadata": {},
   "outputs": [
    {
     "data": {
      "text/plain": [
       "Blocked Driveway             77044\n",
       "Illegal Parking              75361\n",
       "Noise - Street/Sidewalk      48612\n",
       "Noise - Commercial           35577\n",
       "Derelict Vehicle             17718\n",
       "Noise - Vehicle              17083\n",
       "Animal Abuse                  7778\n",
       "Traffic                       4498\n",
       "Homeless Encampment           4416\n",
       "Noise - Park                  4042\n",
       "Vending                       3802\n",
       "Drinking                      1280\n",
       "Noise - House of Worship       931\n",
       "Posting Advertisement          650\n",
       "Urinating in Public            592\n",
       "Bike/Roller/Skate Chronic      427\n",
       "Panhandling                    307\n",
       "Disorderly Youth               286\n",
       "Illegal Fireworks              168\n",
       "Graffiti                       113\n",
       "Agency Issues                    6\n",
       "Squeegee                         4\n",
       "Ferry Complaint                  2\n",
       "Animal in a Park                 1\n",
       "Name: Complaint Type, dtype: int64"
      ]
     },
     "execution_count": 217,
     "metadata": {},
     "output_type": "execute_result"
    }
   ],
   "source": [
    "#Using ANOVA for first one\n",
    "# H0 : All Complain Types average response time mean is similar\n",
    "# H1 : Not similar\n",
    "CSR_file['Complaint Type'].value_counts()"
   ]
  },
  {
   "cell_type": "code",
   "execution_count": 218,
   "metadata": {},
   "outputs": [
    {
     "name": "stdout",
     "output_type": "stream",
     "text": [
      "Blocked Driveway           77044\n",
      "Illegal Parking            75361\n",
      "Noise - Street/Sidewalk    48612\n",
      "Noise - Commercial         35577\n",
      "Derelict Vehicle           17718\n",
      "Name: Complaint Type, dtype: int64\n"
     ]
    }
   ],
   "source": [
    "#Finding top 5 complaint types\n",
    "top5_complaints_type = CSR_file['Complaint Type'].value_counts()[:5]\n",
    "print(top5_complaints_type)"
   ]
  },
  {
   "cell_type": "code",
   "execution_count": 219,
   "metadata": {},
   "outputs": [
    {
     "data": {
      "text/plain": [
       "Index(['Blocked Driveway', 'Illegal Parking', 'Noise - Street/Sidewalk',\n",
       "       'Noise - Commercial', 'Derelict Vehicle'],\n",
       "      dtype='object')"
      ]
     },
     "execution_count": 219,
     "metadata": {},
     "output_type": "execute_result"
    }
   ],
   "source": [
    "#top 5 complaint names\n",
    "top5_complaints_type_names = top5_complaints_type.index\n",
    "top5_complaints_type_names"
   ]
  },
  {
   "cell_type": "code",
   "execution_count": 222,
   "metadata": {},
   "outputs": [
    {
     "data": {
      "text/html": [
       "<div>\n",
       "<style scoped>\n",
       "    .dataframe tbody tr th:only-of-type {\n",
       "        vertical-align: middle;\n",
       "    }\n",
       "\n",
       "    .dataframe tbody tr th {\n",
       "        vertical-align: top;\n",
       "    }\n",
       "\n",
       "    .dataframe thead th {\n",
       "        text-align: right;\n",
       "    }\n",
       "</style>\n",
       "<table border=\"1\" class=\"dataframe\">\n",
       "  <thead>\n",
       "    <tr style=\"text-align: right;\">\n",
       "      <th></th>\n",
       "      <th>Complaint Type</th>\n",
       "      <th>Request_Closing_In_Hr</th>\n",
       "    </tr>\n",
       "  </thead>\n",
       "  <tbody>\n",
       "    <tr>\n",
       "      <th>0</th>\n",
       "      <td>Noise - Street/Sidewalk</td>\n",
       "      <td>0.92</td>\n",
       "    </tr>\n",
       "    <tr>\n",
       "      <th>1</th>\n",
       "      <td>Blocked Driveway</td>\n",
       "      <td>1.44</td>\n",
       "    </tr>\n",
       "    <tr>\n",
       "      <th>2</th>\n",
       "      <td>Blocked Driveway</td>\n",
       "      <td>4.86</td>\n",
       "    </tr>\n",
       "    <tr>\n",
       "      <th>3</th>\n",
       "      <td>Illegal Parking</td>\n",
       "      <td>7.75</td>\n",
       "    </tr>\n",
       "    <tr>\n",
       "      <th>4</th>\n",
       "      <td>Illegal Parking</td>\n",
       "      <td>3.45</td>\n",
       "    </tr>\n",
       "  </tbody>\n",
       "</table>\n",
       "</div>"
      ],
      "text/plain": [
       "            Complaint Type  Request_Closing_In_Hr\n",
       "0  Noise - Street/Sidewalk                   0.92\n",
       "1         Blocked Driveway                   1.44\n",
       "2         Blocked Driveway                   4.86\n",
       "3          Illegal Parking                   7.75\n",
       "4          Illegal Parking                   3.45"
      ]
     },
     "execution_count": 222,
     "metadata": {},
     "output_type": "execute_result"
    }
   ],
   "source": [
    "sample_data = CSR_file.loc[CSR_file['Complaint Type'].isin(top5_complaints_type_names), ['Complaint Type', 'Request_Closing_In_Hr']]\n",
    "sample_data.head()"
   ]
  },
  {
   "cell_type": "code",
   "execution_count": 223,
   "metadata": {},
   "outputs": [
    {
     "data": {
      "text/plain": [
       "Complaint Type              0\n",
       "Request_Closing_In_Hr    2059\n",
       "dtype: int64"
      ]
     },
     "execution_count": 223,
     "metadata": {},
     "output_type": "execute_result"
    }
   ],
   "source": [
    "#Removing null in sample data\n",
    "sample_data.isnull().sum()"
   ]
  },
  {
   "cell_type": "code",
   "execution_count": 224,
   "metadata": {},
   "outputs": [
    {
     "data": {
      "text/plain": [
       "Complaint Type           0\n",
       "Request_Closing_In_Hr    0\n",
       "dtype: int64"
      ]
     },
     "execution_count": 224,
     "metadata": {},
     "output_type": "execute_result"
    }
   ],
   "source": [
    "sample_data.dropna(how='any', inplace=True)\n",
    "sample_data.isnull().sum()"
   ]
  },
  {
   "cell_type": "code",
   "execution_count": 225,
   "metadata": {},
   "outputs": [
    {
     "data": {
      "text/plain": [
       "1     1.44\n",
       "2     4.86\n",
       "7     1.80\n",
       "9     1.38\n",
       "10    7.80\n",
       "Name: Request_Closing_In_Hr, dtype: float64"
      ]
     },
     "execution_count": 225,
     "metadata": {},
     "output_type": "execute_result"
    }
   ],
   "source": [
    "s1 = sample_data[sample_data['Complaint Type'] == top5_complaints_type_names[0]].Request_Closing_In_Hr\n",
    "s1.head()"
   ]
  },
  {
   "cell_type": "code",
   "execution_count": 226,
   "metadata": {},
   "outputs": [
    {
     "data": {
      "text/plain": [
       "3    7.75\n",
       "4    3.45\n",
       "5    1.89\n",
       "6    1.96\n",
       "8    8.55\n",
       "Name: Request_Closing_In_Hr, dtype: float64"
      ]
     },
     "execution_count": 226,
     "metadata": {},
     "output_type": "execute_result"
    }
   ],
   "source": [
    "s2 = sample_data[sample_data['Complaint Type'] == top5_complaints_type_names[1]].Request_Closing_In_Hr\n",
    "s2.head()"
   ]
  },
  {
   "cell_type": "code",
   "execution_count": 227,
   "metadata": {},
   "outputs": [
    {
     "data": {
      "text/plain": [
       "0     0.92\n",
       "12    2.48\n",
       "19    0.78\n",
       "38    0.49\n",
       "54    1.50\n",
       "Name: Request_Closing_In_Hr, dtype: float64"
      ]
     },
     "execution_count": 227,
     "metadata": {},
     "output_type": "execute_result"
    }
   ],
   "source": [
    "s3 = sample_data[sample_data['Complaint Type'] == top5_complaints_type_names[2]].Request_Closing_In_Hr\n",
    "s3.head()"
   ]
  },
  {
   "cell_type": "code",
   "execution_count": 228,
   "metadata": {},
   "outputs": [
    {
     "data": {
      "text/plain": [
       "17    0.85\n",
       "18    2.93\n",
       "22    1.26\n",
       "29    2.50\n",
       "30    1.99\n",
       "Name: Request_Closing_In_Hr, dtype: float64"
      ]
     },
     "execution_count": 228,
     "metadata": {},
     "output_type": "execute_result"
    }
   ],
   "source": [
    "s4 = sample_data[sample_data['Complaint Type'] == top5_complaints_type_names[3]].Request_Closing_In_Hr\n",
    "s4.head()"
   ]
  },
  {
   "cell_type": "code",
   "execution_count": 229,
   "metadata": {},
   "outputs": [
    {
     "data": {
      "text/plain": [
       "14     10.49\n",
       "151     3.95\n",
       "255     1.36\n",
       "256     4.13\n",
       "295     0.75\n",
       "Name: Request_Closing_In_Hr, dtype: float64"
      ]
     },
     "execution_count": 229,
     "metadata": {},
     "output_type": "execute_result"
    }
   ],
   "source": [
    "s5 = sample_data[sample_data['Complaint Type'] == top5_complaints_type_names[4]].Request_Closing_In_Hr\n",
    "s5.head()"
   ]
  },
  {
   "cell_type": "code",
   "execution_count": 230,
   "metadata": {},
   "outputs": [
    {
     "name": "stdout",
     "output_type": "stream",
     "text": [
      "0\n",
      "0\n",
      "0\n",
      "0\n",
      "0\n"
     ]
    }
   ],
   "source": [
    "print(s1.isnull().sum())\n",
    "print(s2.isnull().sum())\n",
    "print(s3.isnull().sum())\n",
    "print(s4.isnull().sum())\n",
    "print(s5.isnull().sum())"
   ]
  },
  {
   "cell_type": "code",
   "execution_count": 231,
   "metadata": {},
   "outputs": [
    {
     "data": {
      "text/plain": [
       "F_onewayResult(statistic=1799.598683238952, pvalue=0.0)"
      ]
     },
     "execution_count": 231,
     "metadata": {},
     "output_type": "execute_result"
    }
   ],
   "source": [
    "stats.f_oneway(s1, s2, s3, s4, s5)\n",
    "#Conclusion: As pvalue is less than 0.05 so we can reject null hypothesis and average response time is not same."
   ]
  },
  {
   "cell_type": "code",
   "execution_count": 232,
   "metadata": {},
   "outputs": [
    {
     "data": {
      "text/plain": [
       "BROOKLYN         98307\n",
       "NEW YORK         65994\n",
       "BRONX            40702\n",
       "STATEN ISLAND    12343\n",
       "JAMAICA           7296\n",
       "Name: City, dtype: int64"
      ]
     },
     "execution_count": 232,
     "metadata": {},
     "output_type": "execute_result"
    }
   ],
   "source": [
    "#### Using ChiSquare Test for Are the type of complaint or service requested and location related?\n",
    "# H0 : 2 categories - Complain Type and Location is independent means not related\n",
    "# Ha : 2 categories - Complain Type and Location is dependent means related\n",
    "top5_location = CSR_file['City'].value_counts()[:5]\n",
    "top5_location"
   ]
  },
  {
   "cell_type": "code",
   "execution_count": 233,
   "metadata": {},
   "outputs": [
    {
     "data": {
      "text/plain": [
       "Index(['BROOKLYN', 'NEW YORK', 'BRONX', 'STATEN ISLAND', 'JAMAICA'], dtype='object')"
      ]
     },
     "execution_count": 233,
     "metadata": {},
     "output_type": "execute_result"
    }
   ],
   "source": [
    "top5_location_names = top5_location.index\n",
    "top5_location_names"
   ]
  },
  {
   "cell_type": "code",
   "execution_count": 236,
   "metadata": {},
   "outputs": [
    {
     "data": {
      "text/html": [
       "<div>\n",
       "<style scoped>\n",
       "    .dataframe tbody tr th:only-of-type {\n",
       "        vertical-align: middle;\n",
       "    }\n",
       "\n",
       "    .dataframe tbody tr th {\n",
       "        vertical-align: top;\n",
       "    }\n",
       "\n",
       "    .dataframe thead th {\n",
       "        text-align: right;\n",
       "    }\n",
       "</style>\n",
       "<table border=\"1\" class=\"dataframe\">\n",
       "  <thead>\n",
       "    <tr style=\"text-align: right;\">\n",
       "      <th></th>\n",
       "      <th>Complaint Type</th>\n",
       "      <th>City</th>\n",
       "    </tr>\n",
       "  </thead>\n",
       "  <tbody>\n",
       "    <tr>\n",
       "      <th>0</th>\n",
       "      <td>Noise - Street/Sidewalk</td>\n",
       "      <td>NEW YORK</td>\n",
       "    </tr>\n",
       "    <tr>\n",
       "      <th>2</th>\n",
       "      <td>Blocked Driveway</td>\n",
       "      <td>BRONX</td>\n",
       "    </tr>\n",
       "    <tr>\n",
       "      <th>3</th>\n",
       "      <td>Illegal Parking</td>\n",
       "      <td>BRONX</td>\n",
       "    </tr>\n",
       "    <tr>\n",
       "      <th>5</th>\n",
       "      <td>Illegal Parking</td>\n",
       "      <td>BROOKLYN</td>\n",
       "    </tr>\n",
       "    <tr>\n",
       "      <th>6</th>\n",
       "      <td>Illegal Parking</td>\n",
       "      <td>NEW YORK</td>\n",
       "    </tr>\n",
       "  </tbody>\n",
       "</table>\n",
       "</div>"
      ],
      "text/plain": [
       "            Complaint Type      City\n",
       "0  Noise - Street/Sidewalk  NEW YORK\n",
       "2         Blocked Driveway     BRONX\n",
       "3          Illegal Parking     BRONX\n",
       "5          Illegal Parking  BROOKLYN\n",
       "6          Illegal Parking  NEW YORK"
      ]
     },
     "execution_count": 236,
     "metadata": {},
     "output_type": "execute_result"
    }
   ],
   "source": [
    "sample_data_location_c_type = CSR_file.loc[(CSR_file['Complaint Type'].isin(top5_complaints_type_names)) & (CSR_file['City'].isin(top5_location_names)), ['Complaint Type', 'City']]\n",
    "sample_data_location_c_type.head()"
   ]
  },
  {
   "cell_type": "code",
   "execution_count": 237,
   "metadata": {},
   "outputs": [
    {
     "data": {
      "text/html": [
       "<div>\n",
       "<style scoped>\n",
       "    .dataframe tbody tr th:only-of-type {\n",
       "        vertical-align: middle;\n",
       "    }\n",
       "\n",
       "    .dataframe tbody tr th {\n",
       "        vertical-align: top;\n",
       "    }\n",
       "\n",
       "    .dataframe thead th {\n",
       "        text-align: right;\n",
       "    }\n",
       "</style>\n",
       "<table border=\"1\" class=\"dataframe\">\n",
       "  <thead>\n",
       "    <tr style=\"text-align: right;\">\n",
       "      <th>City</th>\n",
       "      <th>BRONX</th>\n",
       "      <th>BROOKLYN</th>\n",
       "      <th>JAMAICA</th>\n",
       "      <th>NEW YORK</th>\n",
       "      <th>STATEN ISLAND</th>\n",
       "      <th>All</th>\n",
       "    </tr>\n",
       "    <tr>\n",
       "      <th>Complaint Type</th>\n",
       "      <th></th>\n",
       "      <th></th>\n",
       "      <th></th>\n",
       "      <th></th>\n",
       "      <th></th>\n",
       "      <th></th>\n",
       "    </tr>\n",
       "  </thead>\n",
       "  <tbody>\n",
       "    <tr>\n",
       "      <th>Blocked Driveway</th>\n",
       "      <td>12755</td>\n",
       "      <td>28148</td>\n",
       "      <td>2818</td>\n",
       "      <td>2072</td>\n",
       "      <td>2142</td>\n",
       "      <td>47935</td>\n",
       "    </tr>\n",
       "    <tr>\n",
       "      <th>Derelict Vehicle</th>\n",
       "      <td>1953</td>\n",
       "      <td>5181</td>\n",
       "      <td>954</td>\n",
       "      <td>537</td>\n",
       "      <td>1766</td>\n",
       "      <td>10391</td>\n",
       "    </tr>\n",
       "    <tr>\n",
       "      <th>Illegal Parking</th>\n",
       "      <td>7859</td>\n",
       "      <td>27462</td>\n",
       "      <td>1421</td>\n",
       "      <td>12128</td>\n",
       "      <td>4886</td>\n",
       "      <td>53756</td>\n",
       "    </tr>\n",
       "    <tr>\n",
       "      <th>Noise - Commercial</th>\n",
       "      <td>2434</td>\n",
       "      <td>11463</td>\n",
       "      <td>429</td>\n",
       "      <td>14550</td>\n",
       "      <td>678</td>\n",
       "      <td>29554</td>\n",
       "    </tr>\n",
       "    <tr>\n",
       "      <th>Noise - Street/Sidewalk</th>\n",
       "      <td>8892</td>\n",
       "      <td>13356</td>\n",
       "      <td>339</td>\n",
       "      <td>20433</td>\n",
       "      <td>819</td>\n",
       "      <td>43839</td>\n",
       "    </tr>\n",
       "    <tr>\n",
       "      <th>All</th>\n",
       "      <td>33893</td>\n",
       "      <td>85610</td>\n",
       "      <td>5961</td>\n",
       "      <td>49720</td>\n",
       "      <td>10291</td>\n",
       "      <td>185475</td>\n",
       "    </tr>\n",
       "  </tbody>\n",
       "</table>\n",
       "</div>"
      ],
      "text/plain": [
       "City                     BRONX  BROOKLYN  JAMAICA  NEW YORK  STATEN ISLAND  \\\n",
       "Complaint Type                                                               \n",
       "Blocked Driveway         12755     28148     2818      2072           2142   \n",
       "Derelict Vehicle          1953      5181      954       537           1766   \n",
       "Illegal Parking           7859     27462     1421     12128           4886   \n",
       "Noise - Commercial        2434     11463      429     14550            678   \n",
       "Noise - Street/Sidewalk   8892     13356      339     20433            819   \n",
       "All                      33893     85610     5961     49720          10291   \n",
       "\n",
       "City                        All  \n",
       "Complaint Type                   \n",
       "Blocked Driveway          47935  \n",
       "Derelict Vehicle          10391  \n",
       "Illegal Parking           53756  \n",
       "Noise - Commercial        29554  \n",
       "Noise - Street/Sidewalk   43839  \n",
       "All                      185475  "
      ]
     },
     "execution_count": 237,
     "metadata": {},
     "output_type": "execute_result"
    }
   ],
   "source": [
    "pd.crosstab(sample_data_location_c_type['Complaint Type'], sample_data_location_c_type['City'], margins=True)"
   ]
  },
  {
   "cell_type": "code",
   "execution_count": 239,
   "metadata": {},
   "outputs": [
    {
     "name": "stdout",
     "output_type": "stream",
     "text": [
      "40522.79928349593\n",
      "0.0\n"
     ]
    }
   ],
   "source": [
    "ch2, p_value, df, exp_frq = stats.chi2_contingency(pd.crosstab(sample_data_location_c_type['Complaint Type'], sample_data_location_c_type['City']))\n",
    "print(ch2)\n",
    "print(p_value)\n",
    "#Conclusion:# As pvalue is less than 0.05 so we reject null hypothesis means complain type and location is not independent."
   ]
  }
 ],
 "metadata": {
  "kernelspec": {
   "display_name": "Python 3",
   "language": "python",
   "name": "python3"
  },
  "language_info": {
   "codemirror_mode": {
    "name": "ipython",
    "version": 3
   },
   "file_extension": ".py",
   "mimetype": "text/x-python",
   "name": "python",
   "nbconvert_exporter": "python",
   "pygments_lexer": "ipython3",
   "version": "3.7.6"
  }
 },
 "nbformat": 4,
 "nbformat_minor": 4
}
